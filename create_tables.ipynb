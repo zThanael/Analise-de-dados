{
 "cells": [
  {
   "cell_type": "markdown",
   "id": "402f5351",
   "metadata": {},
   "source": [
    "#### Importação das Bibliotecas"
   ]
  },
  {
   "cell_type": "code",
   "execution_count": 1,
   "id": "183c2900",
   "metadata": {},
   "outputs": [],
   "source": [
    "import sqlite3\n",
    "import os"
   ]
  },
  {
   "cell_type": "code",
   "execution_count": 2,
   "id": "c9aad3ef",
   "metadata": {},
   "outputs": [],
   "source": [
    "#Caso já exista o banco, ira apagar."
   ]
  },
  {
   "cell_type": "code",
   "execution_count": 3,
   "id": "3ec23469",
   "metadata": {},
   "outputs": [],
   "source": [
    "os.remove('pesquisa_satisfacao.db') if os.path.exists('pesquisa_satisfacao.db') else None\n",
    "conn = sqlite3.connect('pesquisa_satisfacao.db')"
   ]
  },
  {
   "cell_type": "code",
   "execution_count": 7,
   "id": "af430cf0",
   "metadata": {},
   "outputs": [],
   "source": [
    "cur = conn.cursor()"
   ]
  },
  {
   "cell_type": "code",
   "execution_count": 9,
   "id": "69cf76e0",
   "metadata": {},
   "outputs": [],
   "source": [
    "#Criar os scripts de criação das tabelas.\n",
    "sql_create_perguntas =  'CREATE TABLE IF NOT EXISTS perguntas'\\\n",
    "                        '(id INTEGER PRIMARY KEY AUTOINCREMENT NOT NULL,'\\\n",
    "                        'enunciado VARCHAR(200) NOT NULL)';\n",
    "\n",
    "sql_create_respostas =  'CREATE TABLE IF NOT EXISTS respostas'\\\n",
    "                        '(id INTEGER PRIMARY KEY AUTOINCREMENT NOT NULL,'\\\n",
    "                        'resposta VARCHAR(30) NOT NULL,'\\\n",
    "                        'id_pergunta INTEGER NOT NULL,'\\\n",
    "                        'FOREIGN KEY (id_pergunta) REFERENCES perguntas(id))';\n",
    "#Criar uma lista com os dois scripts\n",
    "sql_creates = [sql_create_perguntas,sql_create_respostas]"
   ]
  },
  {
   "cell_type": "code",
   "execution_count": 11,
   "id": "fd91cf7e",
   "metadata": {},
   "outputs": [],
   "source": [
    "exe_create = [cur.execute(sql_create) for sql_create in sql_creates]"
   ]
  },
  {
   "cell_type": "code",
   "execution_count": null,
   "id": "cdb9cf1d",
   "metadata": {},
   "outputs": [],
   "source": []
  }
 ],
 "metadata": {
  "kernelspec": {
   "display_name": "Python 3",
   "language": "python",
   "name": "python3"
  },
  "language_info": {
   "codemirror_mode": {
    "name": "ipython",
    "version": 3
   },
   "file_extension": ".py",
   "mimetype": "text/x-python",
   "name": "python",
   "nbconvert_exporter": "python",
   "pygments_lexer": "ipython3",
   "version": "3.8.8"
  }
 },
 "nbformat": 4,
 "nbformat_minor": 5
}
