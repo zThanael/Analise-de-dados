{
 "cells": [
  {
   "cell_type": "markdown",
   "id": "8cfbd0c8",
   "metadata": {},
   "source": [
    "#### Importação das Bibliotecas"
   ]
  },
  {
   "cell_type": "code",
   "execution_count": 1,
   "id": "183c2900",
   "metadata": {},
   "outputs": [],
   "source": [
    "import sqlite3\n",
    "import os"
   ]
  },
  {
   "cell_type": "code",
   "execution_count": null,
   "id": "c068ebb4",
   "metadata": {},
   "outputs": [],
   "source": [
    "#Caso já exista o banco, ira apagar."
   ]
  },
  {
   "cell_type": "code",
   "execution_count": 3,
   "id": "6bda565e",
   "metadata": {},
   "outputs": [
    {
     "ename": "SyntaxError",
     "evalue": "cannot assign to conditional expression (<ipython-input-3-9444bab22504>, line 1)",
     "output_type": "error",
     "traceback": [
      "\u001b[1;36m  File \u001b[1;32m\"<ipython-input-3-9444bab22504>\"\u001b[1;36m, line \u001b[1;32m1\u001b[0m\n\u001b[1;33m    os.remove('pesquisa_satisfacao.db') if os.path.exists('pesquisa_satisfacao.db') else conn = sqlite3.connect('pesquisa_satisfacao.db')\u001b[0m\n\u001b[1;37m    ^\u001b[0m\n\u001b[1;31mSyntaxError\u001b[0m\u001b[1;31m:\u001b[0m cannot assign to conditional expression\n"
     ]
    }
   ],
   "source": [
    "os.remove('pesquisa_satisfacao.db') if os.path.exists('pesquisa_satisfacao.db') else criarBanco()\n",
    "conn = sqlite3.connect('pesquisa_satisfacao.db')"
   ]
  },
  {
   "cell_type": "code",
   "execution_count": null,
   "id": "4e980064",
   "metadata": {},
   "outputs": [],
   "source": []
  },
  {
   "cell_type": "code",
   "execution_count": null,
   "id": "ddde5249",
   "metadata": {},
   "outputs": [],
   "source": []
  }
 ],
 "metadata": {
  "kernelspec": {
   "display_name": "Python 3",
   "language": "python",
   "name": "python3"
  },
  "language_info": {
   "codemirror_mode": {
    "name": "ipython",
    "version": 3
   },
   "file_extension": ".py",
   "mimetype": "text/x-python",
   "name": "python",
   "nbconvert_exporter": "python",
   "pygments_lexer": "ipython3",
   "version": "3.8.8"
  }
 },
 "nbformat": 4,
 "nbformat_minor": 5
}
