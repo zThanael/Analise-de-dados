{
 "cells": [
  {
   "cell_type": "markdown",
   "id": "5d0812cc",
   "metadata": {},
   "source": [
    "# Explicação do código <code> create_tables.py </code>\n",
    "<hr>\n",
    "<p> Neste notebook irei explicar o código que criei no arquivo <code> create_tables.py </code>, para facilitar a compreensão e o como eu realizei a criação do banco de dados e das tabelas. </p>"
   ]
  },
  {
   "cell_type": "markdown",
   "id": "ad7e0fae",
   "metadata": {},
   "source": [
    "<strong>\n",
    " 1.Importação das Bibliotecas\n",
    "</strong>"
   ]
  },
  {
   "cell_type": "code",
   "execution_count": 1,
   "id": "183c2900",
   "metadata": {},
   "outputs": [],
   "source": [
    "import sqlite3\n",
    "import os"
   ]
  },
  {
   "cell_type": "markdown",
   "id": "32980647",
   "metadata": {},
   "source": [
    "<p>\n",
    "    <li>O seguinte comando, diz que se existir um arquivo chamado **pesquisa_satisfacao.db** ele irá excluir o arquivo existene, caso contrario não fará nada.\n",
    "    </li>\n",
    "</p>\n",
    "<blockquote><code> os.remove('pesquisa_satisfacao.db') if os.path.exists('pesquisa_satisfacao.db') else None \n",
    "</code></blockquote>\n"
   ]
  },
  {
   "cell_type": "markdown",
   "id": "be911408",
   "metadata": {},
   "source": [
    "<strong>2. Após isso podemos conectar ao banco <em> 'pesquisa_satisfacao.db' </em>, caso não exista um, será criado um </strong>"
   ]
  },
  {
   "cell_type": "code",
   "execution_count": 2,
   "id": "fead4902",
   "metadata": {},
   "outputs": [],
   "source": [
    "os.remove('../../pesquisa_satisfacao.db') if os.path.exists('../../pesquisa_satisfacao.db') else None\n",
    "conn = sqlite3.connect('../../pesquisa_satisfacao.db')"
   ]
  },
  {
   "cell_type": "markdown",
   "id": "96a21929",
   "metadata": {},
   "source": [
    "**3. Criar um cursor, ou seja um meio pelo qual navegamos pelo banco de dados**"
   ]
  },
  {
   "cell_type": "code",
   "execution_count": 3,
   "id": "9a2d2e39",
   "metadata": {},
   "outputs": [],
   "source": [
    "cur = conn.cursor()"
   ]
  },
  {
   "cell_type": "markdown",
   "id": "257fa18e",
   "metadata": {},
   "source": [
    "**4. Para criarmos as tabelas precisamos escrever os scripts em SQL que criem as tabelas, após isso so necessitamos executar os scripts**"
   ]
  },
  {
   "cell_type": "code",
   "execution_count": 4,
   "id": "ba5c5747",
   "metadata": {},
   "outputs": [],
   "source": [
    "#Criar os scripts de criação das tabelas.\n",
    "sql_create_perguntas =  'CREATE TABLE IF NOT EXISTS perguntas'\\\n",
    "                        '(id INTEGER PRIMARY KEY AUTOINCREMENT NOT NULL,'\\\n",
    "                        'enunciado VARCHAR(200) NOT NULL)';\n",
    "\n",
    "sql_create_respostas =  'CREATE TABLE IF NOT EXISTS respostas'\\\n",
    "                        '(id INTEGER PRIMARY KEY AUTOINCREMENT NOT NULL,'\\\n",
    "                        'resposta VARCHAR(30) NOT NULL,'\\\n",
    "                        'id_pergunta INTEGER NOT NULL,'\\\n",
    "                        'FOREIGN KEY (id_pergunta) REFERENCES perguntas(id))';\n",
    "#Criar uma lista com os dois scripts\n",
    "sql_creates = [sql_create_perguntas,sql_create_respostas]"
   ]
  },
  {
   "cell_type": "markdown",
   "id": "16d6926b",
   "metadata": {},
   "source": [
    "**5. Agora só necessitamos executar os script no banco, optei por usar list comprehension por questão de praticidade mas existem outros meios.**"
   ]
  },
  {
   "cell_type": "markdown",
   "id": "d030020e",
   "metadata": {},
   "source": [
    "<em>List Comprehension</em>"
   ]
  },
  {
   "cell_type": "code",
   "execution_count": 5,
   "id": "6f91e609",
   "metadata": {},
   "outputs": [],
   "source": [
    "#Executar no banco os dois script por meio do cur.execute()\n",
    "exe_create = [cur.execute(sql_create) for sql_create in sql_creates]"
   ]
  },
  {
   "cell_type": "markdown",
   "id": "6303a047",
   "metadata": {},
   "source": [
    "<em> Substitutos para List Comprehension </em>"
   ]
  },
  {
   "cell_type": "code",
   "execution_count": 6,
   "id": "32ebef09",
   "metadata": {},
   "outputs": [],
   "source": [
    "#cur.execute(sql_create_perguntas)\n",
    "#cur.execute(sql_create_respostas)\n",
    "\n",
    "    #Ou\n",
    "    \n",
    "#for script in sql_creates:\n",
    "#    cur.execute(script)"
   ]
  },
  {
   "cell_type": "markdown",
   "id": "9e32cf51",
   "metadata": {},
   "source": [
    "## Estes são os comandos que utilizei para criar as tabelas e o banco de dados para o projeto. O proximo passo será criar um script para inserir dados neste banco."
   ]
  }
 ],
 "metadata": {
  "kernelspec": {
   "display_name": "Python 3 (ipykernel)",
   "language": "python",
   "name": "python3"
  },
  "language_info": {
   "codemirror_mode": {
    "name": "ipython",
    "version": 3
   },
   "file_extension": ".py",
   "mimetype": "text/x-python",
   "name": "python",
   "nbconvert_exporter": "python",
   "pygments_lexer": "ipython3",
   "version": "3.9.7"
  }
 },
 "nbformat": 4,
 "nbformat_minor": 5
}
