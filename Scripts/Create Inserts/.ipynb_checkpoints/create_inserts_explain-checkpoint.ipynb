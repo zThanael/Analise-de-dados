{
 "cells": [
  {
   "cell_type": "markdown",
   "id": "cc34a6eb",
   "metadata": {},
   "source": [
    "### Importação das Bibliotecas"
   ]
  },
  {
   "cell_type": "code",
   "execution_count": 1,
   "id": "c33b8eef",
   "metadata": {},
   "outputs": [],
   "source": [
    "import sqlite3\n",
    "import random\n",
    "import pandas as pd\n",
    "from IPython.display import clear_output"
   ]
  },
  {
   "cell_type": "code",
   "execution_count": 2,
   "id": "b056bd77",
   "metadata": {},
   "outputs": [],
   "source": [
    "conn = sqlite3.connect('../../pesquisa_satisfacao.db')\n",
    "cur = conn.cursor()"
   ]
  },
  {
   "cell_type": "markdown",
   "id": "9bb3d8af",
   "metadata": {},
   "source": [
    "### Criação das funções de inserts e recepts"
   ]
  },
  {
   "cell_type": "code",
   "execution_count": 3,
   "id": "589d4e0d",
   "metadata": {},
   "outputs": [],
   "source": [
    "def perguntas():\n",
    "    qtd_perguntas = int(input('Quantas perguntas desejas adicionar ao banco de dados?'))\n",
    "    perguntas = [input('Digite a pergunta que deseja adicionar ao banco de dados: ') for pergunta in range(qtd_perguntas)]\n",
    "    insert_perguntas = [cur.execute('INSERT INTO perguntas(enunciado) VALUES(?)',[pergunta]) for pergunta in perguntas]\n",
    "    conn.commit()"
   ]
  },
  {
   "cell_type": "code",
   "execution_count": 4,
   "id": "7698f6fe",
   "metadata": {},
   "outputs": [],
   "source": [
    "def insert_respostas(pergunta,qtd_respostas):\n",
    "    randomicos = [random.randint(1,2) for i in range(qtd_respostas)]\n",
    "    respostas = ['sim' if randomicos[cont] == 1 else 'nao' for cont in randomicos]\n",
    "    insert_respostas = [cur.execute('INSERT INTO respostas(resposta,id_pergunta) VALUES (?, ?)',[resposta, pergunta]) for resposta in respostas]\n",
    "    conn.commit()                "
   ]
  },
  {
   "cell_type": "code",
   "execution_count": 5,
   "id": "cf0b5f33",
   "metadata": {},
   "outputs": [],
   "source": [
    "def view_perguntas():\n",
    "    sql_perguntas = 'SELECT * FROM perguntas'\n",
    "    cur.execute(sql_perguntas)\n",
    "    list_perguntas = cur.fetchall()\n",
    "    return (list_perguntas)"
   ]
  },
  {
   "cell_type": "markdown",
   "id": "c4f90177",
   "metadata": {},
   "source": [
    "### Captação dos dados para automatizar as respotas"
   ]
  },
  {
   "cell_type": "code",
   "execution_count": 6,
   "id": "5bb935db",
   "metadata": {
    "scrolled": true
   },
   "outputs": [
    {
     "name": "stdout",
     "output_type": "stream",
     "text": [
      "Quantas perguntas desejas adicionar ao banco de dados?3\n",
      "Digite a pergunta que deseja adicionar ao banco de dados: Gostou do produto? \n",
      "Digite a pergunta que deseja adicionar ao banco de dados: Compraria novamente? \n",
      "Digite a pergunta que deseja adicionar ao banco de dados: Indicaria o produto?\n"
     ]
    }
   ],
   "source": [
    "perguntas()"
   ]
  },
  {
   "cell_type": "code",
   "execution_count": 7,
   "id": "0628426c",
   "metadata": {},
   "outputs": [
    {
     "name": "stdout",
     "output_type": "stream",
     "text": [
      "Id: 1   |  Questão: Gostou do produto? \n",
      "Id: 2   |  Questão: Compraria novamente? \n",
      "Id: 3   |  Questão: Indicaria o produto?\n"
     ]
    }
   ],
   "source": [
    "list_perguntas = view_perguntas()\n",
    "for pergunta in list_perguntas:\n",
    "    print(f'Id: {pergunta[0]}   |  Questão: {pergunta[1]}')"
   ]
  },
  {
   "cell_type": "code",
   "execution_count": 11,
   "id": "5e0ed892",
   "metadata": {},
   "outputs": [
    {
     "name": "stdout",
     "output_type": "stream",
     "text": [
      "Qual o id da pergunta que deseja adicionar respostas:  (0=sair)  \n",
      "Resposta: 0\n"
     ]
    }
   ],
   "source": [
    "while True:\n",
    "    pergunta = int(input('Qual o id da pergunta que deseja adicionar respostas:  (0=sair)  \\nResposta: '))\n",
    "    if pergunta == 0:\n",
    "        break\n",
    "    qtd_respostas = int(input('Quantas respostas deseja adicionar ao banco? '))\n",
    "    clear_output(wait=True)\n",
    "    insert_respostas(pergunta,qtd_respostas)\n",
    "    pass"
   ]
  },
  {
   "cell_type": "markdown",
   "id": "433733da",
   "metadata": {},
   "source": [
    "### Visualização dos dados"
   ]
  },
  {
   "cell_type": "code",
   "execution_count": 12,
   "id": "13c1da74",
   "metadata": {},
   "outputs": [],
   "source": [
    "cur.execute('''SELECT perguntas.enunciado, respostas.resposta\n",
    "FROM perguntas\n",
    "INNER JOIN respostas\n",
    "    ON perguntas.id = respostas.id_pergunta\n",
    "''')    \n",
    "database = cur.fetchall()"
   ]
  },
  {
   "cell_type": "code",
   "execution_count": 13,
   "id": "afb262c0",
   "metadata": {},
   "outputs": [
    {
     "data": {
      "text/plain": [
       "[('Gostou do produto? ', 'sim'),\n",
       " ('Gostou do produto? ', 'sim'),\n",
       " ('Gostou do produto? ', 'nao'),\n",
       " ('Gostou do produto? ', 'sim'),\n",
       " ('Gostou do produto? ', 'nao'),\n",
       " ('Gostou do produto? ', 'sim'),\n",
       " ('Gostou do produto? ', 'nao'),\n",
       " ('Gostou do produto? ', 'sim'),\n",
       " ('Gostou do produto? ', 'nao'),\n",
       " ('Gostou do produto? ', 'nao'),\n",
       " ('Gostou do produto? ', 'sim'),\n",
       " ('Gostou do produto? ', 'nao'),\n",
       " ('Gostou do produto? ', 'nao'),\n",
       " ('Gostou do produto? ', 'nao'),\n",
       " ('Gostou do produto? ', 'sim'),\n",
       " ('Gostou do produto? ', 'nao'),\n",
       " ('Gostou do produto? ', 'sim'),\n",
       " ('Gostou do produto? ', 'sim'),\n",
       " ('Gostou do produto? ', 'sim'),\n",
       " ('Gostou do produto? ', 'sim'),\n",
       " ('Gostou do produto? ', 'sim'),\n",
       " ('Gostou do produto? ', 'sim'),\n",
       " ('Gostou do produto? ', 'nao'),\n",
       " ('Gostou do produto? ', 'nao'),\n",
       " ('Gostou do produto? ', 'sim'),\n",
       " ('Gostou do produto? ', 'nao'),\n",
       " ('Gostou do produto? ', 'nao'),\n",
       " ('Gostou do produto? ', 'sim'),\n",
       " ('Gostou do produto? ', 'sim'),\n",
       " ('Gostou do produto? ', 'sim'),\n",
       " ('Gostou do produto? ', 'sim'),\n",
       " ('Gostou do produto? ', 'nao'),\n",
       " ('Gostou do produto? ', 'sim'),\n",
       " ('Gostou do produto? ', 'sim'),\n",
       " ('Gostou do produto? ', 'nao'),\n",
       " ('Gostou do produto? ', 'nao'),\n",
       " ('Gostou do produto? ', 'nao'),\n",
       " ('Gostou do produto? ', 'sim'),\n",
       " ('Gostou do produto? ', 'sim'),\n",
       " ('Gostou do produto? ', 'sim'),\n",
       " ('Gostou do produto? ', 'nao'),\n",
       " ('Gostou do produto? ', 'nao'),\n",
       " ('Gostou do produto? ', 'sim'),\n",
       " ('Gostou do produto? ', 'sim'),\n",
       " ('Gostou do produto? ', 'sim'),\n",
       " ('Gostou do produto? ', 'sim'),\n",
       " ('Gostou do produto? ', 'sim'),\n",
       " ('Gostou do produto? ', 'nao'),\n",
       " ('Gostou do produto? ', 'nao'),\n",
       " ('Gostou do produto? ', 'sim'),\n",
       " ('Compraria novamente? ', 'nao'),\n",
       " ('Compraria novamente? ', 'sim'),\n",
       " ('Compraria novamente? ', 'nao'),\n",
       " ('Compraria novamente? ', 'sim'),\n",
       " ('Compraria novamente? ', 'sim'),\n",
       " ('Compraria novamente? ', 'sim'),\n",
       " ('Compraria novamente? ', 'sim'),\n",
       " ('Compraria novamente? ', 'sim'),\n",
       " ('Compraria novamente? ', 'sim'),\n",
       " ('Compraria novamente? ', 'nao'),\n",
       " ('Compraria novamente? ', 'sim'),\n",
       " ('Compraria novamente? ', 'sim'),\n",
       " ('Compraria novamente? ', 'sim'),\n",
       " ('Compraria novamente? ', 'sim'),\n",
       " ('Compraria novamente? ', 'nao'),\n",
       " ('Compraria novamente? ', 'sim'),\n",
       " ('Compraria novamente? ', 'nao'),\n",
       " ('Compraria novamente? ', 'sim'),\n",
       " ('Compraria novamente? ', 'nao'),\n",
       " ('Compraria novamente? ', 'sim'),\n",
       " ('Compraria novamente? ', 'nao'),\n",
       " ('Compraria novamente? ', 'nao'),\n",
       " ('Compraria novamente? ', 'sim'),\n",
       " ('Compraria novamente? ', 'sim'),\n",
       " ('Compraria novamente? ', 'sim'),\n",
       " ('Compraria novamente? ', 'sim'),\n",
       " ('Compraria novamente? ', 'sim'),\n",
       " ('Compraria novamente? ', 'sim'),\n",
       " ('Compraria novamente? ', 'nao'),\n",
       " ('Compraria novamente? ', 'sim'),\n",
       " ('Compraria novamente? ', 'sim'),\n",
       " ('Compraria novamente? ', 'sim'),\n",
       " ('Compraria novamente? ', 'sim'),\n",
       " ('Compraria novamente? ', 'nao'),\n",
       " ('Compraria novamente? ', 'nao'),\n",
       " ('Compraria novamente? ', 'nao'),\n",
       " ('Compraria novamente? ', 'nao'),\n",
       " ('Compraria novamente? ', 'sim'),\n",
       " ('Compraria novamente? ', 'nao'),\n",
       " ('Compraria novamente? ', 'sim'),\n",
       " ('Compraria novamente? ', 'nao'),\n",
       " ('Compraria novamente? ', 'sim'),\n",
       " ('Compraria novamente? ', 'sim'),\n",
       " ('Compraria novamente? ', 'sim'),\n",
       " ('Compraria novamente? ', 'nao'),\n",
       " ('Compraria novamente? ', 'sim'),\n",
       " ('Compraria novamente? ', 'sim'),\n",
       " ('Compraria novamente? ', 'sim'),\n",
       " ('Compraria novamente? ', 'sim'),\n",
       " ('Compraria novamente? ', 'nao'),\n",
       " ('Indicaria o produto?', 'sim'),\n",
       " ('Indicaria o produto?', 'sim'),\n",
       " ('Indicaria o produto?', 'nao'),\n",
       " ('Indicaria o produto?', 'nao'),\n",
       " ('Indicaria o produto?', 'sim'),\n",
       " ('Indicaria o produto?', 'nao'),\n",
       " ('Indicaria o produto?', 'nao'),\n",
       " ('Indicaria o produto?', 'nao'),\n",
       " ('Indicaria o produto?', 'sim'),\n",
       " ('Indicaria o produto?', 'sim'),\n",
       " ('Indicaria o produto?', 'sim'),\n",
       " ('Indicaria o produto?', 'sim'),\n",
       " ('Indicaria o produto?', 'sim'),\n",
       " ('Indicaria o produto?', 'nao'),\n",
       " ('Indicaria o produto?', 'nao'),\n",
       " ('Indicaria o produto?', 'nao'),\n",
       " ('Indicaria o produto?', 'sim'),\n",
       " ('Indicaria o produto?', 'nao'),\n",
       " ('Indicaria o produto?', 'sim'),\n",
       " ('Indicaria o produto?', 'sim'),\n",
       " ('Indicaria o produto?', 'sim'),\n",
       " ('Indicaria o produto?', 'sim'),\n",
       " ('Indicaria o produto?', 'sim'),\n",
       " ('Indicaria o produto?', 'nao'),\n",
       " ('Indicaria o produto?', 'sim'),\n",
       " ('Indicaria o produto?', 'sim'),\n",
       " ('Indicaria o produto?', 'sim'),\n",
       " ('Indicaria o produto?', 'nao'),\n",
       " ('Indicaria o produto?', 'sim'),\n",
       " ('Indicaria o produto?', 'nao'),\n",
       " ('Indicaria o produto?', 'nao'),\n",
       " ('Indicaria o produto?', 'sim'),\n",
       " ('Indicaria o produto?', 'sim'),\n",
       " ('Indicaria o produto?', 'nao'),\n",
       " ('Indicaria o produto?', 'nao'),\n",
       " ('Indicaria o produto?', 'nao'),\n",
       " ('Indicaria o produto?', 'sim'),\n",
       " ('Indicaria o produto?', 'nao'),\n",
       " ('Indicaria o produto?', 'sim'),\n",
       " ('Indicaria o produto?', 'nao'),\n",
       " ('Indicaria o produto?', 'sim'),\n",
       " ('Indicaria o produto?', 'sim'),\n",
       " ('Indicaria o produto?', 'sim'),\n",
       " ('Indicaria o produto?', 'nao'),\n",
       " ('Indicaria o produto?', 'nao'),\n",
       " ('Indicaria o produto?', 'sim'),\n",
       " ('Indicaria o produto?', 'sim'),\n",
       " ('Indicaria o produto?', 'nao'),\n",
       " ('Indicaria o produto?', 'sim'),\n",
       " ('Indicaria o produto?', 'sim')]"
      ]
     },
     "execution_count": 13,
     "metadata": {},
     "output_type": "execute_result"
    }
   ],
   "source": [
    "database"
   ]
  },
  {
   "cell_type": "code",
   "execution_count": 14,
   "id": "9c9beff6",
   "metadata": {},
   "outputs": [],
   "source": [
    "sql_perguntas = 'SELECT * FROM perguntas'\n",
    "cur.execute(sql_perguntas)\n",
    "list_perguntas = cur.fetchall()"
   ]
  },
  {
   "cell_type": "code",
   "execution_count": 10,
   "id": "5be12de1",
   "metadata": {},
   "outputs": [
    {
     "data": {
      "text/plain": [
       "[(1, 'Gostou do produto? '),\n",
       " (2, 'Compraria novamente? '),\n",
       " (3, 'Indicaria o produto?')]"
      ]
     },
     "execution_count": 10,
     "metadata": {},
     "output_type": "execute_result"
    }
   ],
   "source": [
    "list_perguntas"
   ]
  },
  {
   "cell_type": "code",
   "execution_count": null,
   "id": "1e7bfbb2",
   "metadata": {},
   "outputs": [],
   "source": []
  }
 ],
 "metadata": {
  "kernelspec": {
   "display_name": "Python 3 (ipykernel)",
   "language": "python",
   "name": "python3"
  },
  "language_info": {
   "codemirror_mode": {
    "name": "ipython",
    "version": 3
   },
   "file_extension": ".py",
   "mimetype": "text/x-python",
   "name": "python",
   "nbconvert_exporter": "python",
   "pygments_lexer": "ipython3",
   "version": "3.9.7"
  }
 },
 "nbformat": 4,
 "nbformat_minor": 5
}
