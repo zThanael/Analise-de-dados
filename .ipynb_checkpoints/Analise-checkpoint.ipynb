{
 "cells": [
  {
   "cell_type": "code",
   "execution_count": 64,
   "id": "4b10891d",
   "metadata": {},
   "outputs": [],
   "source": [
    "import os\n",
    "import pandas as pd\n",
    "import sqlite3\n",
    "import matplotlib as plt"
   ]
  },
  {
   "cell_type": "code",
   "execution_count": 5,
   "id": "8fd8774e",
   "metadata": {},
   "outputs": [],
   "source": [
    "banco = sqlite3.connect('pesquisa_satisfacao.db')"
   ]
  },
  {
   "cell_type": "markdown",
   "id": "0294dd6c",
   "metadata": {},
   "source": [
    "### Criar a consulta SQL para trazer os dados que quero do banco"
   ]
  },
  {
   "cell_type": "code",
   "execution_count": 26,
   "id": "9d213df8",
   "metadata": {},
   "outputs": [],
   "source": [
    "cur = banco.cursor()\n",
    "sql = '''SELECT p.enunciado, r.resposta \n",
    "FROM perguntas p\n",
    "INNER JOIN respostas r\n",
    "    ON p.id = r.id_pergunta\n",
    "'''\n",
    "cur.execute(sql)\n",
    "query = cur.fetchall()\n",
    "#query é uma lista com todas as respostas"
   ]
  },
  {
   "cell_type": "code",
   "execution_count": 30,
   "id": "730e7269",
   "metadata": {},
   "outputs": [],
   "source": [
    "# query"
   ]
  },
  {
   "cell_type": "markdown",
   "id": "b10d13ff",
   "metadata": {},
   "source": [
    "### Criar nosso DataFrame"
   ]
  },
  {
   "cell_type": "code",
   "execution_count": 47,
   "id": "723c8f3a",
   "metadata": {},
   "outputs": [],
   "source": [
    "df = pd.read_sql(sql,banco)"
   ]
  },
  {
   "cell_type": "code",
   "execution_count": 48,
   "id": "d69359e3",
   "metadata": {},
   "outputs": [],
   "source": [
    "pergunta = df['enunciado'][0]"
   ]
  },
  {
   "cell_type": "code",
   "execution_count": 56,
   "id": "cdd63b1b",
   "metadata": {},
   "outputs": [],
   "source": [
    "df = df.rename(columns={'resposta':pergunta}, inplace = False)"
   ]
  },
  {
   "cell_type": "code",
   "execution_count": 54,
   "id": "09f37502",
   "metadata": {},
   "outputs": [],
   "source": [
    "# df = df.drop(columns=['enunciado'])"
   ]
  },
  {
   "cell_type": "code",
   "execution_count": 113,
   "id": "a3268139",
   "metadata": {},
   "outputs": [],
   "source": [
    "valores = df.value_counts()"
   ]
  },
  {
   "cell_type": "code",
   "execution_count": 114,
   "id": "4cbdf0bc",
   "metadata": {},
   "outputs": [
    {
     "data": {
      "text/plain": [
       "Compraria novamente?\n",
       "nao                     60\n",
       "sim                     20\n",
       "dtype: int64"
      ]
     },
     "execution_count": 114,
     "metadata": {},
     "output_type": "execute_result"
    }
   ],
   "source": [
    "valores"
   ]
  },
  {
   "cell_type": "code",
   "execution_count": 115,
   "id": "ab944b7a",
   "metadata": {},
   "outputs": [],
   "source": [
    "nao = valores[0]\n",
    "sim = valores[1]"
   ]
  },
  {
   "cell_type": "code",
   "execution_count": 117,
   "id": "d34f634f",
   "metadata": {},
   "outputs": [
    {
     "data": {
      "image/png": "[encoded data removed]",
      "text/plain": [
       "<Figure size 360x360 with 1 Axes>"
      ]
     },
     "metadata": {},
     "output_type": "display_data"
    }
   ],
   "source": [
    "df = pd.DataFrame({'resposta': [nao,sim],\n",
    "                   'radius': [2439.7, 6051.8]},\n",
    "                  index=['Não', 'Sim'])\n",
    "plot = df.plot.pie(y='resposta', figsize=(5, 5))"
   ]
  },
  {
   "cell_type": "code",
   "execution_count": null,
   "id": "ebc53b1d",
   "metadata": {},
   "outputs": [],
   "source": []
  }
 ],
 "metadata": {
  "kernelspec": {
   "display_name": "Python 3",
   "language": "python",
   "name": "python3"
  },
  "language_info": {
   "codemirror_mode": {
    "name": "ipython",
    "version": 3
   },
   "file_extension": ".py",
   "mimetype": "text/x-python",
   "name": "python",
   "nbconvert_exporter": "python",
   "pygments_lexer": "ipython3",
   "version": "3.8.8"
  }
 },
 "nbformat": 4,
 "nbformat_minor": 5
}
